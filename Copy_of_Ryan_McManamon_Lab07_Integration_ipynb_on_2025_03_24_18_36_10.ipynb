{
  "nbformat": 4,
  "nbformat_minor": 0,
  "metadata": {
    "colab": {
      "provenance": [],
      "include_colab_link": true
    },
    "kernelspec": {
      "name": "python3",
      "display_name": "Python 3"
    },
    "language_info": {
      "name": "python"
    }
  },
  "cells": [
    {
      "cell_type": "markdown",
      "metadata": {
        "id": "view-in-github",
        "colab_type": "text"
      },
      "source": [
        "<a href=\"https://colab.research.google.com/github/ryanmcmanamon1/computational_physics/blob/main/Copy_of_Ryan_McManamon_Lab07_Integration_ipynb_on_2025_03_24_18_36_10.ipynb\" target=\"_parent\"><img src=\"https://colab.research.google.com/assets/colab-badge.svg\" alt=\"Open In Colab\"/></a>"
      ]
    },
    {
      "cell_type": "markdown",
      "source": [
        "# Lab 07: Numerical Integration\n",
        "\n",
        "* There are many techniques for implementing numerical integration.  In this lab, you will write code to implement the trapezoid method of integration.\n",
        "\n",
        "* You will use this function to calculate the integral in several different physical situations.\n",
        "\n",
        "* You will compare your function with python's built-it numerical integrators."
      ],
      "metadata": {
        "id": "xse95zEAUgb9"
      }
    },
    {
      "cell_type": "code",
      "execution_count": null,
      "metadata": {
        "id": "to9v7ECGPTHI"
      },
      "outputs": [],
      "source": [
        "# import your modules here\n",
        "import numpy as np\n",
        "import matplotlib.pyplot as plt\n",
        "import math as math\n"
      ]
    },
    {
      "cell_type": "markdown",
      "source": [
        "# Part 1: Write a Function to Implement the Trapezoid Integration Method\n",
        "\n",
        "(5 points)\n",
        "\n",
        "Write a function called **trap** that does the following.\n",
        "\n",
        "Input:\n",
        "* array of y values\n",
        "* array of x values, spanning from from xmin to xmax\n",
        "\n",
        "\n",
        "Function should integrate using the trapezoid method.\n",
        "\n",
        "Return:\n",
        "* the integral of $f(x)$ between xmin and xmax"
      ],
      "metadata": {
        "id": "aiIJCQWpPW5i"
      }
    },
    {
      "cell_type": "code",
      "source": [
        "# write your function here\n",
        "def trap(y,x):\n",
        "  '''\n",
        "  inputs: x, y arrays\n",
        "\n",
        "  function calulctae area under curve using trapezoid method\n",
        "\n",
        "  outputs: area\n",
        "  '''\n",
        "  Atotal = 0\n",
        "  for i in range(1,len(x)):\n",
        "    A = (1/2)*(y[i]+y[i-1])*(x[i]-x[i-1])\n",
        "    Atotal = Atotal + A\n",
        "  return Atotal\n"
      ],
      "metadata": {
        "id": "dEtQF_6BP0BI"
      },
      "execution_count": null,
      "outputs": []
    },
    {
      "cell_type": "markdown",
      "source": [
        "# Part 2:  Calculate the Area Under the Half Circle\n",
        "\n",
        "(10 points)\n",
        "\n",
        "In the pre-lab assignment, we estimated the area of a half circle using the trapezoid method.\n",
        "\n",
        "The general equation for a circle is:\n",
        "\n",
        "$$ r^2 = x^2 + y^2 $$\n",
        "\n",
        "For a circle of $r=2$, we can solve for the y coordinate:\n",
        "\n",
        "$$ f(x) = y = \\sqrt{2^2 - x^2} $$.\n",
        "\n",
        "\n",
        "### Write a function to return the y values of your circle\n",
        "\n",
        "* In the first cell below, write a function called **mycircle** that returns the y value of the circle.\n",
        "\n",
        "* let the radius be an optional argument, and set the default value to $r=2$.\n",
        "\n",
        "\n",
        "\n",
        "\n"
      ],
      "metadata": {
        "id": "GVYQZD_hIsgj"
      }
    },
    {
      "cell_type": "code",
      "source": [
        "# write your function mycircle here\n",
        "def mycircle(x,r=2):\n",
        "  '''\n",
        "  inputs: x array, optional radius with default argument of 2\n",
        "\n",
        "  function calculates the y value for x using the function y=sqrt(4-x^2)\n",
        "\n",
        "  outputs: y\n",
        "  '''\n",
        "  y = (np.sqrt(r**2-x**2))\n",
        "  return y\n"
      ],
      "metadata": {
        "id": "aQcI3aFGZXOT"
      },
      "execution_count": null,
      "outputs": []
    },
    {
      "cell_type": "markdown",
      "source": [
        "### Calculate the area under the half circle using integration\n",
        "\n",
        "* In the next cell, set up an array of x values with $-2 \\le x \\le 2$, with 100 divisions between $-2$ and $2$.  \n",
        "* Calculate the corresponding y values using your **mycircle** function.\n",
        "\n",
        "* Then use your **trap** function to calculate the area under the circle.\n",
        "\n",
        "* Print the value of your area using a formatted print statement.  Print five decimal places."
      ],
      "metadata": {
        "id": "f1XsoJsAanUp"
      }
    },
    {
      "cell_type": "code",
      "source": [
        "xvals = np.linspace(-2,2,100)\n",
        "yvals = mycircle(xvals,r=2)\n",
        "A = trap(yvals,xvals)\n",
        "print(f'Area = {A}')"
      ],
      "metadata": {
        "id": "RG3AsBdIanBD",
        "colab": {
          "base_uri": "https://localhost:8080/"
        },
        "outputId": "c5cab1b4-dc24-406c-ce40-1592d082a998"
      },
      "execution_count": null,
      "outputs": [
        {
          "output_type": "stream",
          "name": "stdout",
          "text": [
            "Area = 6.276436078403621\n"
          ]
        }
      ]
    },
    {
      "cell_type": "markdown",
      "source": [
        "### Determine the Accuracy of Your Integral\n",
        "\n",
        "* Compare your answer with the accepted value of the integral.\n",
        "\n",
        "* Calculate and print your percent error."
      ],
      "metadata": {
        "id": "hzEpu9KQauef"
      }
    },
    {
      "cell_type": "code",
      "source": [
        "print(math.isclose(A,2*np.pi,abs_tol = 1e-2))\n",
        "percenterror = ((A-2*np.pi)/2*np.pi)*100\n",
        "print(f'Percent errror = {percenterror}')"
      ],
      "metadata": {
        "id": "_kpNnTcda2rf",
        "colab": {
          "base_uri": "https://localhost:8080/"
        },
        "outputId": "c15f2952-79aa-4cba-c621-b7b9cd4fa69f"
      },
      "execution_count": null,
      "outputs": [
        {
          "output_type": "stream",
          "name": "stdout",
          "text": [
            "True\n",
            "Percent errror = -1.0601663769984864\n"
          ]
        }
      ]
    },
    {
      "cell_type": "markdown",
      "source": [
        "### The impact of the spacing in the x array\n",
        "\n",
        "* Repeat your above calculations, but divide the region $-2 \\le x \\le 2$ into 1000 steps.\n",
        "\n",
        "* You can copy all of the necessary code into one cell to simplify your calculation.\n",
        "\n",
        "* **SUMMARY**: describe how the accuracy of your integral changes as the size of the steps in the x direction decreases?\n",
        "\n",
        "**YOUR ANSWER HERE**\n",
        "\n"
      ],
      "metadata": {
        "id": "fvsETTnNa6aE"
      }
    },
    {
      "cell_type": "code",
      "source": [
        "xvals1000 = np.linspace(-2,2,1000)\n",
        "yvals1000 = mycircle(xvals1000,r=2)\n",
        "A1000 = trap(yvals1000,xvals1000)\n",
        "print(f'Area = {A1000}')\n",
        "print(math.isclose(A1000,2*np.pi,abs_tol = 1e-2))\n",
        "percenterror1000 = ((A1000-2*np.pi)/2*np.pi)*100\n",
        "print(f'Percent error = {percenterror1000}')\n",
        "\n",
        "#As the step size of x increases the accuracy of A increases"
      ],
      "metadata": {
        "id": "tqnnaKTRcGsj",
        "colab": {
          "base_uri": "https://localhost:8080/"
        },
        "outputId": "f6c3338f-7b69-4f1f-f6f7-11445492cdcd"
      },
      "execution_count": null,
      "outputs": [
        {
          "output_type": "stream",
          "name": "stdout",
          "text": [
            "Area = 6.28297463809257\n",
            "True\n",
            "Percent error = -0.03309182280540579\n"
          ]
        }
      ]
    },
    {
      "cell_type": "markdown",
      "source": [
        "# Part 3: Integral of the Gaussian Distribution\n",
        "\n",
        "(10 points)\n",
        "\n",
        "The gaussian function (aka normal distribution) is:\n",
        "$$  f(x) = \\frac{1}{\\sqrt{2 \\pi} \\sigma} e^{-\\frac{1}{2}\\left(\\frac{x-\\bar{x}}{\\sigma}\\right)^2} $$\n",
        "\n",
        "where:\n",
        "* $\\bar{x}$ is the average of a distribution\n",
        "* $\\sigma$ is the standard deviation of the distribution\n",
        "\n",
        "\n",
        "Write a function **mygauss** that does the following:\n",
        "\n",
        "* Input\n",
        "  * x\n",
        "  * mean\n",
        "  * sigma\n",
        "\n",
        "* calculate $f(x)$\n",
        "\n",
        "* Return\n",
        "  * $f(x)$\n",
        "\n",
        "\n"
      ],
      "metadata": {
        "id": "bbNL0Tm5QF9b"
      }
    },
    {
      "cell_type": "code",
      "source": [
        "def mygauss(x,mean,sigma):\n",
        "  '''\n",
        "  inputs: x array, mean , sigma\n",
        "\n",
        "  function caluclated the value of the gaussian function for x\n",
        "\n",
        "  outputs: gaussian y value\n",
        "  '''\n",
        "  y = 1/(np.sqrt(2*np.pi)*sigma)*np.exp((-1/2)*((x-mean)/sigma)**2)\n",
        "  return y"
      ],
      "metadata": {
        "id": "s8DTfGCQVjyG"
      },
      "execution_count": null,
      "outputs": []
    },
    {
      "cell_type": "markdown",
      "source": [
        "### Integrate your gaussian\n",
        "\n",
        "* write code to integrate the gaussian between:\n",
        "* $ -\\sigma \\le x \\le \\sigma $\n",
        "\n",
        "* Compare your results with the expected answer, and calculate your percent error.\n",
        "\n",
        "* If you are not sure what the expected answer is, [look here](https://en.wikipedia.org/wiki/Normal_distribution)"
      ],
      "metadata": {
        "id": "215OJtBgczwW"
      }
    },
    {
      "cell_type": "code",
      "source": [
        "sigma = 1\n",
        "x = np.linspace(-sigma,sigma,1000)\n",
        "mean = 0\n",
        "y = mygauss(x,mean,sigma)\n",
        "A = trap(y,x)\n",
        "print(A)"
      ],
      "metadata": {
        "id": "OgZQ1qgLTglS",
        "colab": {
          "base_uri": "https://localhost:8080/"
        },
        "outputId": "1d3d5cb3-3081-4685-80b2-b675e3ad9e59"
      },
      "execution_count": null,
      "outputs": [
        {
          "output_type": "stream",
          "name": "stdout",
          "text": [
            "0.6826893305001367\n"
          ]
        }
      ]
    },
    {
      "cell_type": "markdown",
      "source": [
        "Calculate the integral for:\n",
        "* $ -2\\sigma \\le x \\le 2\\sigma $\n",
        "\n",
        "and compare with the accepted answer."
      ],
      "metadata": {
        "id": "yvYU9KDodFli"
      }
    },
    {
      "cell_type": "code",
      "source": [
        "x2 = np.linspace(-2*sigma,2*sigma,1000)\n",
        "y2 = mygauss(x2,mean,sigma)\n",
        "A2  = trap(y2,x2)\n",
        "print(A2)"
      ],
      "metadata": {
        "id": "yFWRKdaudN79",
        "colab": {
          "base_uri": "https://localhost:8080/"
        },
        "outputId": "39067c41-8f6e-4ebb-e6fd-6415dac4eab2"
      },
      "execution_count": null,
      "outputs": [
        {
          "output_type": "stream",
          "name": "stdout",
          "text": [
            "0.9544994475751292\n"
          ]
        }
      ]
    },
    {
      "cell_type": "markdown",
      "source": [
        "Calculate the integral for:\n",
        "* $ -3\\sigma \\le x \\le 3\\sigma $\n",
        "\n",
        "and compare with the accepted answer."
      ],
      "metadata": {
        "id": "ZLAB82w2dM4d"
      }
    },
    {
      "cell_type": "code",
      "source": [
        "x3 = np.linspace(-3*sigma,3*sigma,1000)\n",
        "y3 = mygauss(x3,mean,sigma)\n",
        "A3  = trap(y3,x3)\n",
        "print(A3)"
      ],
      "metadata": {
        "id": "YA0YYC7PdOeG",
        "colab": {
          "base_uri": "https://localhost:8080/"
        },
        "outputId": "363e9be0-a630-485c-e312-4602c720f860"
      },
      "execution_count": null,
      "outputs": [
        {
          "output_type": "stream",
          "name": "stdout",
          "text": [
            "0.9973001240039716\n"
          ]
        }
      ]
    },
    {
      "cell_type": "markdown",
      "source": [
        "# Part 4: Using Python Built-In Functions\n",
        "(5 points)\n",
        "\n",
        "* Let's revisit parts 1 and 4 and use python's built-in functions to complete the integration.\n",
        "\n",
        "* You can use the ```scipy.integrate.trapezoid``` function to perform your integration."
      ],
      "metadata": {
        "id": "LbsBm4YYIdA9"
      }
    },
    {
      "cell_type": "code",
      "source": [
        "# import scipy.integrate.trapezoid\n",
        "import scipy.integrate\n",
        "\n",
        "# set up x and y arrays for the half circle\n",
        "x = np.linspace(-2,2,100)\n",
        "y = mycircle(x,r=2)\n",
        "# call scipy.integrate.trapezoid to perform the integration\n",
        "Area = scipy.integrate.trapezoid(y,x)\n",
        "# print your result and the expected answer in a formatted print statement\n",
        "print(f'The area using the built in integration method is {Area}')"
      ],
      "metadata": {
        "id": "_IVhEmEpIo_1",
        "colab": {
          "base_uri": "https://localhost:8080/"
        },
        "outputId": "36ccb7f0-243e-4520-c06b-0a4db28a4810"
      },
      "execution_count": null,
      "outputs": [
        {
          "output_type": "stream",
          "name": "stdout",
          "text": [
            "The area using the built in integration method is 6.276436078403619\n"
          ]
        }
      ]
    },
    {
      "cell_type": "code",
      "source": [
        "# import scipy.integrate.trapezoid\n",
        "\n",
        "# set up x and y arrays for the gaussian\n",
        "sigma = 1\n",
        "xgauss = np.linspace(-sigma,sigma,1000)\n",
        "mean = 0\n",
        "ygauss = mygauss(xgauss,mean,sigma)\n",
        "# call scipy.integrate.trapezoid to perform the integration between $-1\\sigma \\le x \\le 1\\sigma$.\n",
        "Areagauss = scipy.integrate.trapezoid(ygauss,xgauss)\n",
        "# print your result and the expected answer in a formatted print statement\n",
        "print(f'The area using the built in integration method is {Areagauss}')"
      ],
      "metadata": {
        "id": "utR9UEHShLNq",
        "colab": {
          "base_uri": "https://localhost:8080/"
        },
        "outputId": "c8e39acc-d975-4105-ca5a-89fcfa8acc1c"
      },
      "execution_count": null,
      "outputs": [
        {
          "output_type": "stream",
          "name": "stdout",
          "text": [
            "The area using the built in integration method is 0.6826893305001358\n"
          ]
        }
      ]
    },
    {
      "cell_type": "markdown",
      "source": [
        "# Part 5: Calculating Area Using Monte Carlo\n",
        "\n",
        "(10 points)\n",
        "\n",
        "* On paper or the whiteboard, develop pseudo code for a function that will calculate the area of the half circle using the Monte Carlo method.\n",
        "* Check this with your instructor, and discuss how you could generalize this for any function.\n",
        "* Write your function **mcintegrate** in the cell below.\n",
        "* Your function should have an optional input argument, **visualize**, with a default value of ```False```.  If ```visualize=True```, your function should create a plot that shows:\n",
        "  * the function being integrated with a black solid line;\n",
        "  * the points that fall below the function as blue circles;\n",
        "  * the points that fall above the function as red circles;\n",
        "  * a title that reports the area.\n",
        "\n"
      ],
      "metadata": {
        "id": "YIsYaJeMICbr"
      }
    },
    {
      "cell_type": "code",
      "source": [
        "# your monte carlo function here\n",
        "def mcintegrate(x,y,npoints,visualize=False):\n",
        "  '''\n",
        "  inputs: x array, y array, number of random points, optional visualize argument\n",
        "\n",
        "  function plots random points of x and y and color codes them based on if they\n",
        "  are under or above the curve y=sqrt(4-x^2). Based on the ratio of total points\n",
        "  to points under the curve, the area under the curve can be caclulated.\n",
        "\n",
        "  outputs: area under the curve\n",
        "  '''\n",
        "  xmin = np.min(x)\n",
        "  xmax = np.max(x)\n",
        "  ymin = np.min(y)\n",
        "  ymax = np.max(y)\n",
        "  xpoints = np.random.uniform(low=xmin,high=xmax,size=npoints)\n",
        "  ypoints = np.random.uniform(low=ymin,high=ymax,size=npoints)\n",
        "  goodflag = (ypoints < mycircle(xpoints))\n",
        "  Ngood = np.sum(ypoints < mycircle(xpoints))\n",
        "  Ntotal = len(xpoints)\n",
        "  Integral = (Ngood/Ntotal)*(xmax-xmin)*(ymax-ymin)\n",
        "  if visualize:\n",
        "    plt.figure()\n",
        "    plt.plot(x,mycircle(x),'k',label='y=sqrt(4-x^2)')\n",
        "    plt.plot(xpoints[goodflag],ypoints[goodflag],'bo',label='good')\n",
        "    plt.plot(xpoints[~goodflag],ypoints[~goodflag],'ro',label='bad')\n",
        "    plt.title(f'Area of the graph is {Integral}')\n",
        "    plt.xlabel('x')\n",
        "    plt.ylabel('y')\n",
        "    plt.legend()\n",
        "  return Integral\n"
      ],
      "metadata": {
        "id": "pDnrvWT0IcV0"
      },
      "execution_count": null,
      "outputs": []
    },
    {
      "cell_type": "markdown",
      "source": [
        "### Running Your Monte Carlo Integration Function\n",
        "\n",
        "* Use your function for integrating the area under the curve in Part 1.\n",
        "* Set ```visualize=True``` to see make sure your function is behaving as expected."
      ],
      "metadata": {
        "id": "i1EIBOeHd1CQ"
      }
    },
    {
      "cell_type": "code",
      "source": [
        "# your code to calculate the area of a half circle using monte carlo\n",
        "x = np.linspace(-2,2,100)\n",
        "y = np.linspace(0,2,100)\n",
        "npoints=1000\n",
        "\n",
        "#used n = 1000 so the curve is still visable in black. for higher n the points\n",
        "#cover the line\n",
        "\n",
        "mcintegrate(x,y,npoints,visualize=True)"
      ],
      "metadata": {
        "id": "5egVlWsqemUZ",
        "colab": {
          "base_uri": "https://localhost:8080/",
          "height": 489
        },
        "outputId": "86e5c307-94ce-46b5-c35b-e384f0600574"
      },
      "execution_count": null,
      "outputs": [
        {
          "output_type": "execute_result",
          "data": {
            "text/plain": [
              "np.float64(6.128)"
            ]
          },
          "metadata": {},
          "execution_count": 37
        },
        {
          "output_type": "display_data",
          "data": {
            "text/plain": [
              "<Figure size 640x480 with 1 Axes>"
            ],
            "image/png": "[encoded data removed]"
          },
          "metadata": {}
        }
      ]
    },
    {
      "cell_type": "code",
      "source": [],
      "metadata": {
        "id": "K1kYMDK_9KTw"
      },
      "execution_count": null,
      "outputs": []
    }
  ]
}